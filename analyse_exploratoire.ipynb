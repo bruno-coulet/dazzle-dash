{
 "cells": [
  {
   "cell_type": "markdown",
   "metadata": {},
   "source": [
    "Sources de données libres d’accès :\n",
    "https://drive.google.com/file/d/1RPqWJl1GSsPpeUBg2wFx0SIIh74eGKJE/view"
   ]
  },
  {
   "cell_type": "markdown",
   "metadata": {},
   "source": [
    "Commencez par\n",
    "- calculer des statistiques descriptives\n",
    "- créer des graphes par colonne\n",
    "- essayez d’identifier des liens entre vos variables\n",
    "- etc."
   ]
  },
  {
   "cell_type": "markdown",
   "metadata": {},
   "source": []
  },
  {
   "cell_type": "markdown",
   "metadata": {},
   "source": []
  }
 ],
 "metadata": {
  "language_info": {
   "name": "python"
  }
 },
 "nbformat": 4,
 "nbformat_minor": 2
}
